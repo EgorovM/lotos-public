{
 "cells": [
  {
   "cell_type": "code",
   "execution_count": 11,
   "metadata": {},
   "outputs": [],
   "source": [
    "import os\n",
    "\n",
    "import pandas"
   ]
  },
  {
   "cell_type": "code",
   "execution_count": 13,
   "metadata": {},
   "outputs": [
    {
     "data": {
      "text/plain": [
       "['EgorovaOlga_1.xlsx']"
      ]
     },
     "execution_count": 13,
     "metadata": {},
     "output_type": "execute_result"
    }
   ],
   "source": []
  },
  {
   "cell_type": "code",
   "execution_count": 14,
   "metadata": {},
   "outputs": [
    {
     "name": "stdout",
     "output_type": "stream",
     "text": [
      "Ольга Егорова\n"
     ]
    }
   ],
   "source": [
    "for filename in os.listdir('partners'):\n",
    "    df = pandas.read_excel('partners/EgorovaOlga_1.xlsx')\n",
    "    df.head()\n",
    "    \n",
    "    doctor_name =df.name[0]\n",
    "    doctor_type = df.type[0]\n",
    "    doctor_info = df['info'][0]\n",
    "    package_name = df.package[0]\n",
    "\n",
    "    for code_invitro in df.code_invitro:\n",
    "        pass\n",
    "    \n",
    "    print(doctor_name)"
   ]
  },
  {
   "cell_type": "code",
   "execution_count": null,
   "metadata": {},
   "outputs": [],
   "source": []
  }
 ],
 "metadata": {
  "kernelspec": {
   "display_name": "cs102",
   "language": "python",
   "name": "cs102"
  },
  "language_info": {
   "codemirror_mode": {
    "name": "ipython",
    "version": 3
   },
   "file_extension": ".py",
   "mimetype": "text/x-python",
   "name": "python",
   "nbconvert_exporter": "python",
   "pygments_lexer": "ipython3",
   "version": "3.8.3"
  }
 },
 "nbformat": 4,
 "nbformat_minor": 4
}
