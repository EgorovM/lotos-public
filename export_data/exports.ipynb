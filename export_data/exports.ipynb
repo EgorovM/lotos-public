{
 "cells": [
  {
   "cell_type": "markdown",
   "metadata": {},
   "source": [
    "# Инвитро"
   ]
  },
  {
   "cell_type": "code",
   "execution_count": null,
   "metadata": {},
   "outputs": [],
   "source": [
    "In [1]: from analysis.models import Analys, AnalysInLabaratory, Labaratory      \n",
    "\n",
    "In [2]: import pandas as pd                                                     \n",
    "\n",
    "In [3]: invitro_data = pd.read_csv('export_data/csv/invitro.csv')               \n",
    "\n",
    "In [4]: invitro_lab = Labaratory.objects.get(id=3)   \n",
    "    \n",
    "In [13]: for i in invitro_data.index: \n",
    "...:     analys = Analys.objects.create( \n",
    "...:         name=invitro_data['Наименование профиля исследований'][i], \n",
    "...:         section=invitro_data['Раздел'][i], \n",
    "...:         code=invitro_data['Код'][i], \n",
    "...:         description='', \n",
    "...:         preparations='', \n",
    "...:         sampling_type='', \n",
    "...:         blank_form='') \n",
    "...:          \n",
    "...:     analys_in_lab = AnalysInLabaratory.objects.create( \n",
    "...:         labaratory=invitro_lab, \n",
    "...:         analys=analys, \n",
    "...:         price=invitro_data['Цена'][i], \n",
    "...:         period=invitro_data['Сроки исполнения'][i]) "
   ]
  },
  {
   "cell_type": "code",
   "execution_count": null,
   "metadata": {},
   "outputs": [],
   "source": []
  }
 ],
 "metadata": {
  "kernelspec": {
   "display_name": "cs102",
   "language": "python",
   "name": "cs102"
  },
  "language_info": {
   "codemirror_mode": {
    "name": "ipython",
    "version": 3
   },
   "file_extension": ".py",
   "mimetype": "text/x-python",
   "name": "python",
   "nbconvert_exporter": "python",
   "pygments_lexer": "ipython3",
   "version": "3.8.3"
  }
 },
 "nbformat": 4,
 "nbformat_minor": 4
}
