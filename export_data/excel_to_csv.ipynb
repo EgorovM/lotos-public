{
 "cells": [
  {
   "cell_type": "code",
   "execution_count": 9,
   "metadata": {},
   "outputs": [],
   "source": [
    "import xlrd\n",
    "import copy\n",
    "\n",
    "import pandas as pd\n",
    "import numpy as np"
   ]
  },
  {
   "cell_type": "code",
   "execution_count": 10,
   "metadata": {},
   "outputs": [
    {
     "data": {
      "text/plain": [
       "'Биохимические исследования/Белки и аминокислоты'"
      ]
     },
     "execution_count": 10,
     "metadata": {},
     "output_type": "execute_result"
    }
   ],
   "source": [
    "df1 = pd.read_csv('invitro.csv', sep=';')\n",
    "df1.data_section_path[0]"
   ]
  },
  {
   "cell_type": "code",
   "execution_count": 10,
   "metadata": {},
   "outputs": [],
   "source": [
    "df = pd.read_csv('analysis/moskva_analysis.csv')"
   ]
  },
  {
   "cell_type": "code",
   "execution_count": 15,
   "metadata": {},
   "outputs": [
    {
     "data": {
      "text/plain": [
       "'290 руб'"
      ]
     },
     "execution_count": 15,
     "metadata": {},
     "output_type": "execute_result"
    }
   ],
   "source": [
    "df.data_prices[18]"
   ]
  },
  {
   "cell_type": "code",
   "execution_count": 13,
   "metadata": {},
   "outputs": [
    {
     "data": {
      "text/plain": [
       "18"
      ]
     },
     "execution_count": 13,
     "metadata": {},
     "output_type": "execute_result"
    }
   ],
   "source": [
    "list(df.data_number).index('8')"
   ]
  },
  {
   "cell_type": "code",
   "execution_count": 16,
   "metadata": {},
   "outputs": [
    {
     "data": {
      "text/plain": [
       "464.0"
      ]
     },
     "execution_count": 16,
     "metadata": {},
     "output_type": "execute_result"
    }
   ],
   "source": [
    "290 * 1.6"
   ]
  },
  {
   "cell_type": "markdown",
   "metadata": {},
   "source": [
    "### Helper"
   ]
  },
  {
   "cell_type": "code",
   "execution_count": 8,
   "metadata": {},
   "outputs": [],
   "source": [
    "def get_notnullable_rows_by_col(data, col_name):\n",
    "    return data[np.logical_not(data[col_name].isna())]\n",
    "\n",
    "def get_analysis_sections(data, not_null_col, section_name_col, is_all_section_general=True):\n",
    "    def is_general_section(name):\n",
    "        \"\"\"\n",
    "            Предположение о том, что разделы пишутся с ЗАГЛАВНЫХ букв.\n",
    "        \"\"\"\n",
    "        \n",
    "        if name.upper() == name and not 'ВНИМАНИЕ' in name:\n",
    "            return True\n",
    "        \n",
    "        return False\n",
    "        \n",
    "    sections_names = data[data[not_null_col].isna()][section_name_col]\n",
    "    sections_index = list(sections_names.index) + [data.shape[0]]\n",
    "\n",
    "    counts = [sections_index[i+1] - sections_index[i] - 1 for i in range(sections_names.shape[0])]\n",
    "    \n",
    "    if not is_all_section_general:\n",
    "        last_general_section_ind = 0\n",
    "\n",
    "        for ind, section_name in enumerate(sections_names):\n",
    "            if not is_general_section(section_name):\n",
    "                counts[last_general_section_ind] += counts[ind]\n",
    "                counts[ind] = 0\n",
    "            else:\n",
    "                last_general_section_ind = ind\n",
    "\n",
    "    analysis_sections = []\n",
    "\n",
    "    for section_name, count in zip(sections_names, counts):\n",
    "         analysis_sections.extend([section_name] * count)\n",
    "            \n",
    "    return analysis_sections"
   ]
  },
  {
   "cell_type": "markdown",
   "metadata": {},
   "source": [
    "# Инвитро"
   ]
  },
  {
   "cell_type": "code",
   "execution_count": 5,
   "metadata": {},
   "outputs": [
    {
     "ename": "FileNotFoundError",
     "evalue": "[Errno 2] No such file or directory: 'ИНВИТРО.xls'",
     "output_type": "error",
     "traceback": [
      "\u001b[0;31m---------------------------------------------------------------------------\u001b[0m",
      "\u001b[0;31mFileNotFoundError\u001b[0m                         Traceback (most recent call last)",
      "\u001b[0;32m<ipython-input-5-44e31bc7bea5>\u001b[0m in \u001b[0;36m<module>\u001b[0;34m\u001b[0m\n\u001b[0;32m----> 1\u001b[0;31m \u001b[0minvitro\u001b[0m \u001b[0;34m=\u001b[0m \u001b[0mpd\u001b[0m\u001b[0;34m.\u001b[0m\u001b[0mread_excel\u001b[0m\u001b[0;34m(\u001b[0m\u001b[0;34m'ИНВИТРО.xls'\u001b[0m\u001b[0;34m,\u001b[0m \u001b[0mheader\u001b[0m\u001b[0;34m=\u001b[0m\u001b[0;32mNone\u001b[0m\u001b[0;34m)\u001b[0m\u001b[0;34m\u001b[0m\u001b[0;34m\u001b[0m\u001b[0m\n\u001b[0m\u001b[1;32m      2\u001b[0m \u001b[0;32mfor\u001b[0m \u001b[0mind\u001b[0m \u001b[0;32min\u001b[0m \u001b[0;34m[\u001b[0m\u001b[0;36m0\u001b[0m\u001b[0;34m,\u001b[0m \u001b[0;36m3\u001b[0m\u001b[0;34m,\u001b[0m \u001b[0;36m4\u001b[0m\u001b[0;34m,\u001b[0m \u001b[0;36m5\u001b[0m\u001b[0;34m,\u001b[0m \u001b[0;36m8\u001b[0m\u001b[0;34m]\u001b[0m\u001b[0;34m:\u001b[0m\u001b[0;34m\u001b[0m\u001b[0;34m\u001b[0m\u001b[0m\n\u001b[1;32m      3\u001b[0m     \u001b[0;32mdel\u001b[0m \u001b[0minvitro\u001b[0m\u001b[0;34m[\u001b[0m\u001b[0mind\u001b[0m\u001b[0;34m]\u001b[0m\u001b[0;34m\u001b[0m\u001b[0;34m\u001b[0m\u001b[0m\n",
      "\u001b[0;32m~/.virtualenvs/cs102/lib/python3.8/site-packages/pandas/io/excel/_base.py\u001b[0m in \u001b[0;36mread_excel\u001b[0;34m(io, sheet_name, header, names, index_col, usecols, squeeze, dtype, engine, converters, true_values, false_values, skiprows, nrows, na_values, keep_default_na, verbose, parse_dates, date_parser, thousands, comment, skipfooter, convert_float, mangle_dupe_cols, **kwds)\u001b[0m\n\u001b[1;32m    302\u001b[0m \u001b[0;34m\u001b[0m\u001b[0m\n\u001b[1;32m    303\u001b[0m     \u001b[0;32mif\u001b[0m \u001b[0;32mnot\u001b[0m \u001b[0misinstance\u001b[0m\u001b[0;34m(\u001b[0m\u001b[0mio\u001b[0m\u001b[0;34m,\u001b[0m \u001b[0mExcelFile\u001b[0m\u001b[0;34m)\u001b[0m\u001b[0;34m:\u001b[0m\u001b[0;34m\u001b[0m\u001b[0;34m\u001b[0m\u001b[0m\n\u001b[0;32m--> 304\u001b[0;31m         \u001b[0mio\u001b[0m \u001b[0;34m=\u001b[0m \u001b[0mExcelFile\u001b[0m\u001b[0;34m(\u001b[0m\u001b[0mio\u001b[0m\u001b[0;34m,\u001b[0m \u001b[0mengine\u001b[0m\u001b[0;34m=\u001b[0m\u001b[0mengine\u001b[0m\u001b[0;34m)\u001b[0m\u001b[0;34m\u001b[0m\u001b[0;34m\u001b[0m\u001b[0m\n\u001b[0m\u001b[1;32m    305\u001b[0m     \u001b[0;32melif\u001b[0m \u001b[0mengine\u001b[0m \u001b[0;32mand\u001b[0m \u001b[0mengine\u001b[0m \u001b[0;34m!=\u001b[0m \u001b[0mio\u001b[0m\u001b[0;34m.\u001b[0m\u001b[0mengine\u001b[0m\u001b[0;34m:\u001b[0m\u001b[0;34m\u001b[0m\u001b[0;34m\u001b[0m\u001b[0m\n\u001b[1;32m    306\u001b[0m         raise ValueError(\n",
      "\u001b[0;32m~/.virtualenvs/cs102/lib/python3.8/site-packages/pandas/io/excel/_base.py\u001b[0m in \u001b[0;36m__init__\u001b[0;34m(self, io, engine)\u001b[0m\n\u001b[1;32m    822\u001b[0m         \u001b[0mself\u001b[0m\u001b[0;34m.\u001b[0m\u001b[0m_io\u001b[0m \u001b[0;34m=\u001b[0m \u001b[0mstringify_path\u001b[0m\u001b[0;34m(\u001b[0m\u001b[0mio\u001b[0m\u001b[0;34m)\u001b[0m\u001b[0;34m\u001b[0m\u001b[0;34m\u001b[0m\u001b[0m\n\u001b[1;32m    823\u001b[0m \u001b[0;34m\u001b[0m\u001b[0m\n\u001b[0;32m--> 824\u001b[0;31m         \u001b[0mself\u001b[0m\u001b[0;34m.\u001b[0m\u001b[0m_reader\u001b[0m \u001b[0;34m=\u001b[0m \u001b[0mself\u001b[0m\u001b[0;34m.\u001b[0m\u001b[0m_engines\u001b[0m\u001b[0;34m[\u001b[0m\u001b[0mengine\u001b[0m\u001b[0;34m]\u001b[0m\u001b[0;34m(\u001b[0m\u001b[0mself\u001b[0m\u001b[0;34m.\u001b[0m\u001b[0m_io\u001b[0m\u001b[0;34m)\u001b[0m\u001b[0;34m\u001b[0m\u001b[0;34m\u001b[0m\u001b[0m\n\u001b[0m\u001b[1;32m    825\u001b[0m \u001b[0;34m\u001b[0m\u001b[0m\n\u001b[1;32m    826\u001b[0m     \u001b[0;32mdef\u001b[0m \u001b[0m__fspath__\u001b[0m\u001b[0;34m(\u001b[0m\u001b[0mself\u001b[0m\u001b[0;34m)\u001b[0m\u001b[0;34m:\u001b[0m\u001b[0;34m\u001b[0m\u001b[0;34m\u001b[0m\u001b[0m\n",
      "\u001b[0;32m~/.virtualenvs/cs102/lib/python3.8/site-packages/pandas/io/excel/_xlrd.py\u001b[0m in \u001b[0;36m__init__\u001b[0;34m(self, filepath_or_buffer)\u001b[0m\n\u001b[1;32m     19\u001b[0m         \u001b[0merr_msg\u001b[0m \u001b[0;34m=\u001b[0m \u001b[0;34m\"Install xlrd >= 1.0.0 for Excel support\"\u001b[0m\u001b[0;34m\u001b[0m\u001b[0;34m\u001b[0m\u001b[0m\n\u001b[1;32m     20\u001b[0m         \u001b[0mimport_optional_dependency\u001b[0m\u001b[0;34m(\u001b[0m\u001b[0;34m\"xlrd\"\u001b[0m\u001b[0;34m,\u001b[0m \u001b[0mextra\u001b[0m\u001b[0;34m=\u001b[0m\u001b[0merr_msg\u001b[0m\u001b[0;34m)\u001b[0m\u001b[0;34m\u001b[0m\u001b[0;34m\u001b[0m\u001b[0m\n\u001b[0;32m---> 21\u001b[0;31m         \u001b[0msuper\u001b[0m\u001b[0;34m(\u001b[0m\u001b[0;34m)\u001b[0m\u001b[0;34m.\u001b[0m\u001b[0m__init__\u001b[0m\u001b[0;34m(\u001b[0m\u001b[0mfilepath_or_buffer\u001b[0m\u001b[0;34m)\u001b[0m\u001b[0;34m\u001b[0m\u001b[0;34m\u001b[0m\u001b[0m\n\u001b[0m\u001b[1;32m     22\u001b[0m \u001b[0;34m\u001b[0m\u001b[0m\n\u001b[1;32m     23\u001b[0m     \u001b[0;34m@\u001b[0m\u001b[0mproperty\u001b[0m\u001b[0;34m\u001b[0m\u001b[0;34m\u001b[0m\u001b[0m\n",
      "\u001b[0;32m~/.virtualenvs/cs102/lib/python3.8/site-packages/pandas/io/excel/_base.py\u001b[0m in \u001b[0;36m__init__\u001b[0;34m(self, filepath_or_buffer)\u001b[0m\n\u001b[1;32m    351\u001b[0m             \u001b[0mself\u001b[0m\u001b[0;34m.\u001b[0m\u001b[0mbook\u001b[0m \u001b[0;34m=\u001b[0m \u001b[0mself\u001b[0m\u001b[0;34m.\u001b[0m\u001b[0mload_workbook\u001b[0m\u001b[0;34m(\u001b[0m\u001b[0mfilepath_or_buffer\u001b[0m\u001b[0;34m)\u001b[0m\u001b[0;34m\u001b[0m\u001b[0;34m\u001b[0m\u001b[0m\n\u001b[1;32m    352\u001b[0m         \u001b[0;32melif\u001b[0m \u001b[0misinstance\u001b[0m\u001b[0;34m(\u001b[0m\u001b[0mfilepath_or_buffer\u001b[0m\u001b[0;34m,\u001b[0m \u001b[0mstr\u001b[0m\u001b[0;34m)\u001b[0m\u001b[0;34m:\u001b[0m\u001b[0;34m\u001b[0m\u001b[0;34m\u001b[0m\u001b[0m\n\u001b[0;32m--> 353\u001b[0;31m             \u001b[0mself\u001b[0m\u001b[0;34m.\u001b[0m\u001b[0mbook\u001b[0m \u001b[0;34m=\u001b[0m \u001b[0mself\u001b[0m\u001b[0;34m.\u001b[0m\u001b[0mload_workbook\u001b[0m\u001b[0;34m(\u001b[0m\u001b[0mfilepath_or_buffer\u001b[0m\u001b[0;34m)\u001b[0m\u001b[0;34m\u001b[0m\u001b[0;34m\u001b[0m\u001b[0m\n\u001b[0m\u001b[1;32m    354\u001b[0m         \u001b[0;32melif\u001b[0m \u001b[0misinstance\u001b[0m\u001b[0;34m(\u001b[0m\u001b[0mfilepath_or_buffer\u001b[0m\u001b[0;34m,\u001b[0m \u001b[0mbytes\u001b[0m\u001b[0;34m)\u001b[0m\u001b[0;34m:\u001b[0m\u001b[0;34m\u001b[0m\u001b[0;34m\u001b[0m\u001b[0m\n\u001b[1;32m    355\u001b[0m             \u001b[0mself\u001b[0m\u001b[0;34m.\u001b[0m\u001b[0mbook\u001b[0m \u001b[0;34m=\u001b[0m \u001b[0mself\u001b[0m\u001b[0;34m.\u001b[0m\u001b[0mload_workbook\u001b[0m\u001b[0;34m(\u001b[0m\u001b[0mBytesIO\u001b[0m\u001b[0;34m(\u001b[0m\u001b[0mfilepath_or_buffer\u001b[0m\u001b[0;34m)\u001b[0m\u001b[0;34m)\u001b[0m\u001b[0;34m\u001b[0m\u001b[0;34m\u001b[0m\u001b[0m\n",
      "\u001b[0;32m~/.virtualenvs/cs102/lib/python3.8/site-packages/pandas/io/excel/_xlrd.py\u001b[0m in \u001b[0;36mload_workbook\u001b[0;34m(self, filepath_or_buffer)\u001b[0m\n\u001b[1;32m     34\u001b[0m             \u001b[0;32mreturn\u001b[0m \u001b[0mopen_workbook\u001b[0m\u001b[0;34m(\u001b[0m\u001b[0mfile_contents\u001b[0m\u001b[0;34m=\u001b[0m\u001b[0mdata\u001b[0m\u001b[0;34m)\u001b[0m\u001b[0;34m\u001b[0m\u001b[0;34m\u001b[0m\u001b[0m\n\u001b[1;32m     35\u001b[0m         \u001b[0;32melse\u001b[0m\u001b[0;34m:\u001b[0m\u001b[0;34m\u001b[0m\u001b[0;34m\u001b[0m\u001b[0m\n\u001b[0;32m---> 36\u001b[0;31m             \u001b[0;32mreturn\u001b[0m \u001b[0mopen_workbook\u001b[0m\u001b[0;34m(\u001b[0m\u001b[0mfilepath_or_buffer\u001b[0m\u001b[0;34m)\u001b[0m\u001b[0;34m\u001b[0m\u001b[0;34m\u001b[0m\u001b[0m\n\u001b[0m\u001b[1;32m     37\u001b[0m \u001b[0;34m\u001b[0m\u001b[0m\n\u001b[1;32m     38\u001b[0m     \u001b[0;34m@\u001b[0m\u001b[0mproperty\u001b[0m\u001b[0;34m\u001b[0m\u001b[0;34m\u001b[0m\u001b[0m\n",
      "\u001b[0;32m~/.virtualenvs/cs102/lib/python3.8/site-packages/xlrd/__init__.py\u001b[0m in \u001b[0;36mopen_workbook\u001b[0;34m(filename, logfile, verbosity, use_mmap, file_contents, encoding_override, formatting_info, on_demand, ragged_rows)\u001b[0m\n\u001b[1;32m    109\u001b[0m     \u001b[0;32melse\u001b[0m\u001b[0;34m:\u001b[0m\u001b[0;34m\u001b[0m\u001b[0;34m\u001b[0m\u001b[0m\n\u001b[1;32m    110\u001b[0m         \u001b[0mfilename\u001b[0m \u001b[0;34m=\u001b[0m \u001b[0mos\u001b[0m\u001b[0;34m.\u001b[0m\u001b[0mpath\u001b[0m\u001b[0;34m.\u001b[0m\u001b[0mexpanduser\u001b[0m\u001b[0;34m(\u001b[0m\u001b[0mfilename\u001b[0m\u001b[0;34m)\u001b[0m\u001b[0;34m\u001b[0m\u001b[0;34m\u001b[0m\u001b[0m\n\u001b[0;32m--> 111\u001b[0;31m         \u001b[0;32mwith\u001b[0m \u001b[0mopen\u001b[0m\u001b[0;34m(\u001b[0m\u001b[0mfilename\u001b[0m\u001b[0;34m,\u001b[0m \u001b[0;34m\"rb\"\u001b[0m\u001b[0;34m)\u001b[0m \u001b[0;32mas\u001b[0m \u001b[0mf\u001b[0m\u001b[0;34m:\u001b[0m\u001b[0;34m\u001b[0m\u001b[0;34m\u001b[0m\u001b[0m\n\u001b[0m\u001b[1;32m    112\u001b[0m             \u001b[0mpeek\u001b[0m \u001b[0;34m=\u001b[0m \u001b[0mf\u001b[0m\u001b[0;34m.\u001b[0m\u001b[0mread\u001b[0m\u001b[0;34m(\u001b[0m\u001b[0mpeeksz\u001b[0m\u001b[0;34m)\u001b[0m\u001b[0;34m\u001b[0m\u001b[0;34m\u001b[0m\u001b[0m\n\u001b[1;32m    113\u001b[0m     \u001b[0;32mif\u001b[0m \u001b[0mpeek\u001b[0m \u001b[0;34m==\u001b[0m \u001b[0;34mb\"PK\\x03\\x04\"\u001b[0m\u001b[0;34m:\u001b[0m \u001b[0;31m# a ZIP file\u001b[0m\u001b[0;34m\u001b[0m\u001b[0;34m\u001b[0m\u001b[0m\n",
      "\u001b[0;31mFileNotFoundError\u001b[0m: [Errno 2] No such file or directory: 'ИНВИТРО.xls'"
     ]
    }
   ],
   "source": [
    "invitro = pd.read_excel('ИНВИТРО.xls', header=None)\n",
    "for ind in [0, 3, 4, 5, 8]:    \n",
    "    del invitro[ind]"
   ]
  },
  {
   "cell_type": "code",
   "execution_count": 6,
   "metadata": {},
   "outputs": [
    {
     "ename": "NameError",
     "evalue": "name 'invitro' is not defined",
     "output_type": "error",
     "traceback": [
      "\u001b[0;31m---------------------------------------------------------------------------\u001b[0m",
      "\u001b[0;31mNameError\u001b[0m                                 Traceback (most recent call last)",
      "\u001b[0;32m<ipython-input-6-d6edca2c59ac>\u001b[0m in \u001b[0;36m<module>\u001b[0;34m\u001b[0m\n\u001b[0;32m----> 1\u001b[0;31m \u001b[0minvitro\u001b[0m\u001b[0;34m.\u001b[0m\u001b[0mhead\u001b[0m\u001b[0;34m(\u001b[0m\u001b[0;34m)\u001b[0m\u001b[0;34m\u001b[0m\u001b[0;34m\u001b[0m\u001b[0m\n\u001b[0m",
      "\u001b[0;31mNameError\u001b[0m: name 'invitro' is not defined"
     ]
    }
   ],
   "source": [
    "invitro.head()"
   ]
  },
  {
   "cell_type": "code",
   "execution_count": 5,
   "metadata": {},
   "outputs": [],
   "source": [
    "invitro.to_csv('in.csv', index=False)"
   ]
  },
  {
   "cell_type": "code",
   "execution_count": 6,
   "metadata": {},
   "outputs": [
    {
     "name": "stdout",
     "output_type": "stream",
     "text": [
      "<class 'pandas.core.frame.DataFrame'>\n",
      "RangeIndex: 2063 entries, 0 to 2062\n",
      "Data columns (total 4 columns):\n",
      " #   Column  Non-Null Count  Dtype  \n",
      "---  ------  --------------  -----  \n",
      " 0   1       2063 non-null   object \n",
      " 1   2       1871 non-null   object \n",
      " 2   6       1861 non-null   object \n",
      " 3   7       1871 non-null   float64\n",
      "dtypes: float64(1), object(3)\n",
      "memory usage: 64.6+ KB\n"
     ]
    }
   ],
   "source": [
    "invitro.info()"
   ]
  },
  {
   "cell_type": "code",
   "execution_count": 7,
   "metadata": {},
   "outputs": [
    {
     "data": {
      "text/plain": [
       "1871"
      ]
     },
     "execution_count": 7,
     "metadata": {},
     "output_type": "execute_result"
    }
   ],
   "source": [
    "len(get_analysis_sections(invitro, 7, 1))"
   ]
  },
  {
   "cell_type": "code",
   "execution_count": 9,
   "metadata": {},
   "outputs": [
    {
     "name": "stderr",
     "output_type": "stream",
     "text": [
      "<ipython-input-9-3d912a4d3da2>:3: SettingWithCopyWarning: \n",
      "A value is trying to be set on a copy of a slice from a DataFrame.\n",
      "Try using .loc[row_indexer,col_indexer] = value instead\n",
      "\n",
      "See the caveats in the documentation: https://pandas.pydata.org/pandas-docs/stable/user_guide/indexing.html#returning-a-view-versus-a-copy\n",
      "  invitro_data['section'] = get_analysis_sections(invitro, 7, 1, is_all_section_general=False)\n"
     ]
    }
   ],
   "source": [
    "invitro_data = get_notnullable_rows_by_col(invitro, 7)\n",
    "invitro_data.columns = ['code', 'name', 'period', 'price']\n",
    "invitro_data['section'] = get_analysis_sections(invitro, 7, 1, is_all_section_general=False)"
   ]
  },
  {
   "cell_type": "code",
   "execution_count": 10,
   "metadata": {},
   "outputs": [],
   "source": [
    "invitro_sections = get_analysis_sections(invitro, 7, 1, is_all_section_general=False)\n",
    "pd.Series(list(set(invitro_sections))).to_frame().to_excel('invitro_sections.xls', index=False)"
   ]
  },
  {
   "cell_type": "code",
   "execution_count": 11,
   "metadata": {},
   "outputs": [
    {
     "name": "stdout",
     "output_type": "stream",
     "text": [
      "{'code': '11HOMA', 'name': 'Индекс инсулинорезистентности (глюкоза, инсулин, расчетный индекс инсулинорезистентности HOMA- IR)', 'period': 'до 2', 'price': 540.0, 'section': 'ИМЕННЫЕ НАБОРЫ АНАЛИЗОВ ЛАБОРАТОРИЙ'}\n"
     ]
    }
   ],
   "source": [
    "for series_row in invitro_data.iloc:\n",
    "    print(series_row.to_dict())\n",
    "    break"
   ]
  },
  {
   "cell_type": "code",
   "execution_count": 12,
   "metadata": {},
   "outputs": [],
   "source": [
    "invitro_data.to_csv('csv/invitro.csv', index=False)\n",
    "invitro_data.to_excel('invitro.xls', index=False)"
   ]
  },
  {
   "cell_type": "code",
   "execution_count": 13,
   "metadata": {},
   "outputs": [
    {
     "name": "stdout",
     "output_type": "stream",
     "text": [
      "Всего анализов: 1871\n"
     ]
    }
   ],
   "source": [
    "print(\"Всего анализов:\", invitro_data.shape[0])"
   ]
  },
  {
   "cell_type": "code",
   "execution_count": 9,
   "metadata": {},
   "outputs": [],
   "source": [
    "df = pd.read_csv('csv/invitro.csv')"
   ]
  },
  {
   "cell_type": "code",
   "execution_count": 12,
   "metadata": {},
   "outputs": [
    {
     "ename": "AttributeError",
     "evalue": "'list' object has no attribute 'find'",
     "output_type": "error",
     "traceback": [
      "\u001b[0;31m---------------------------------------------------------------------------\u001b[0m",
      "\u001b[0;31mAttributeError\u001b[0m                            Traceback (most recent call last)",
      "\u001b[0;32m<ipython-input-12-1816f120559c>\u001b[0m in \u001b[0;36m<module>\u001b[0;34m\u001b[0m\n\u001b[0;32m----> 1\u001b[0;31m \u001b[0mlist\u001b[0m\u001b[0;34m(\u001b[0m\u001b[0mdf\u001b[0m\u001b[0;34m.\u001b[0m\u001b[0mname\u001b[0m\u001b[0;34m)\u001b[0m\u001b[0;34m.\u001b[0m\u001b[0mfind\u001b[0m\u001b[0;34m(\u001b[0m\u001b[0;34m'АЛаТ'\u001b[0m\u001b[0;34m)\u001b[0m\u001b[0;34m\u001b[0m\u001b[0;34m\u001b[0m\u001b[0m\n\u001b[0m",
      "\u001b[0;31mAttributeError\u001b[0m: 'list' object has no attribute 'find'"
     ]
    }
   ],
   "source": [
    "list(df.name).find('АЛаТ')"
   ]
  },
  {
   "cell_type": "markdown",
   "metadata": {},
   "source": [
    "# Ситилаб"
   ]
  },
  {
   "cell_type": "code",
   "execution_count": 14,
   "metadata": {},
   "outputs": [],
   "source": [
    "citylab = pd.read_excel('ситилаб.xlsx')"
   ]
  },
  {
   "cell_type": "code",
   "execution_count": 15,
   "metadata": {},
   "outputs": [
    {
     "name": "stdout",
     "output_type": "stream",
     "text": [
      "<class 'pandas.core.frame.DataFrame'>\n",
      "RangeIndex: 1864 entries, 0 to 1863\n",
      "Data columns (total 7 columns):\n",
      " #   Column               Non-Null Count  Dtype  \n",
      "---  ------               --------------  -----  \n",
      " 0   КОД                  1863 non-null   object \n",
      " 1   НАИМЕНОВАНИЕ УСЛУГИ  1656 non-null   object \n",
      " 2   ТИП ИССЛ.            1656 non-null   object \n",
      " 3   БЛАНК                1656 non-null   object \n",
      " 4   БИОМАТ.              1656 non-null   object \n",
      " 5   СРОК*                1656 non-null   object \n",
      " 6   Цена 2020            1862 non-null   float64\n",
      "dtypes: float64(1), object(6)\n",
      "memory usage: 102.1+ KB\n"
     ]
    }
   ],
   "source": [
    "citylab.info()"
   ]
  },
  {
   "cell_type": "code",
   "execution_count": 16,
   "metadata": {},
   "outputs": [],
   "source": [
    "analysis_sections = get_analysis_sections(citylab, 'НАИМЕНОВАНИЕ УСЛУГИ', 'КОД')"
   ]
  },
  {
   "cell_type": "code",
   "execution_count": 17,
   "metadata": {},
   "outputs": [],
   "source": [
    "citylab_sections = get_analysis_sections(citylab, 'НАИМЕНОВАНИЕ УСЛУГИ', 'КОД')\n",
    "pd.Series(list(set(citylab_sections))).to_frame().to_excel('citylab_sections.xls', index=False)"
   ]
  },
  {
   "cell_type": "code",
   "execution_count": 18,
   "metadata": {},
   "outputs": [
    {
     "data": {
      "text/html": [
       "<div>\n",
       "<style scoped>\n",
       "    .dataframe tbody tr th:only-of-type {\n",
       "        vertical-align: middle;\n",
       "    }\n",
       "\n",
       "    .dataframe tbody tr th {\n",
       "        vertical-align: top;\n",
       "    }\n",
       "\n",
       "    .dataframe thead th {\n",
       "        text-align: right;\n",
       "    }\n",
       "</style>\n",
       "<table border=\"1\" class=\"dataframe\">\n",
       "  <thead>\n",
       "    <tr style=\"text-align: right;\">\n",
       "      <th></th>\n",
       "      <th>КОД</th>\n",
       "      <th>НАИМЕНОВАНИЕ УСЛУГИ</th>\n",
       "      <th>ТИП ИССЛ.</th>\n",
       "      <th>БЛАНК</th>\n",
       "      <th>БИОМАТ.</th>\n",
       "      <th>СРОК*</th>\n",
       "      <th>Цена 2020</th>\n",
       "    </tr>\n",
       "  </thead>\n",
       "  <tbody>\n",
       "    <tr>\n",
       "      <th>0</th>\n",
       "      <td>ГЕМАТОЛОГИЧЕСКИЕ ИССЛЕДОВАНИЯ</td>\n",
       "      <td>NaN</td>\n",
       "      <td>NaN</td>\n",
       "      <td>NaN</td>\n",
       "      <td>NaN</td>\n",
       "      <td>NaN</td>\n",
       "      <td>NaN</td>\n",
       "    </tr>\n",
       "    <tr>\n",
       "      <th>1</th>\n",
       "      <td>11-10-001</td>\n",
       "      <td>Общий анализ крови (CBC/Diff - 5 фракций лейко...</td>\n",
       "      <td>колич.</td>\n",
       "      <td>ОНБ</td>\n",
       "      <td>Кровь ЭДТА</td>\n",
       "      <td>1 р.д.</td>\n",
       "      <td>365.5</td>\n",
       "    </tr>\n",
       "    <tr>\n",
       "      <th>2</th>\n",
       "      <td>11-10-002</td>\n",
       "      <td>Ретикулоциты (проточная цитофлуорометрия)</td>\n",
       "      <td>колич.</td>\n",
       "      <td>ОНБ</td>\n",
       "      <td>Кровь ЭДТА</td>\n",
       "      <td>1 р.д.</td>\n",
       "      <td>289.0</td>\n",
       "    </tr>\n",
       "    <tr>\n",
       "      <th>3</th>\n",
       "      <td>11-10-003</td>\n",
       "      <td>СОЭ (по Вестергрен)</td>\n",
       "      <td>колич.</td>\n",
       "      <td>ОНБ</td>\n",
       "      <td>Кровь ЭДТА</td>\n",
       "      <td>1 р.д.</td>\n",
       "      <td>153.0</td>\n",
       "    </tr>\n",
       "    <tr>\n",
       "      <th>4</th>\n",
       "      <td>11-10-004</td>\n",
       "      <td>Лейкоцитарная формула (микроскопия)</td>\n",
       "      <td>колич.</td>\n",
       "      <td>ОНБ</td>\n",
       "      <td>Кровь ЭДТА</td>\n",
       "      <td>1 р.д.</td>\n",
       "      <td>221.0</td>\n",
       "    </tr>\n",
       "  </tbody>\n",
       "</table>\n",
       "</div>"
      ],
      "text/plain": [
       "                             КОД  \\\n",
       "0  ГЕМАТОЛОГИЧЕСКИЕ ИССЛЕДОВАНИЯ   \n",
       "1                      11-10-001   \n",
       "2                      11-10-002   \n",
       "3                      11-10-003   \n",
       "4                      11-10-004   \n",
       "\n",
       "                                 НАИМЕНОВАНИЕ УСЛУГИ ТИП ИССЛ. БЛАНК  \\\n",
       "0                                                NaN       NaN   NaN   \n",
       "1  Общий анализ крови (CBC/Diff - 5 фракций лейко...    колич.   ОНБ   \n",
       "2          Ретикулоциты (проточная цитофлуорометрия)    колич.   ОНБ   \n",
       "3                                СОЭ (по Вестергрен)    колич.   ОНБ   \n",
       "4                Лейкоцитарная формула (микроскопия)    колич.   ОНБ   \n",
       "\n",
       "      БИОМАТ.   СРОК*  Цена 2020  \n",
       "0         NaN     NaN        NaN  \n",
       "1  Кровь ЭДТА  1 р.д.      365.5  \n",
       "2  Кровь ЭДТА  1 р.д.      289.0  \n",
       "3  Кровь ЭДТА  1 р.д.      153.0  \n",
       "4  Кровь ЭДТА  1 р.д.      221.0  "
      ]
     },
     "execution_count": 18,
     "metadata": {},
     "output_type": "execute_result"
    }
   ],
   "source": [
    "citylab.head()"
   ]
  },
  {
   "cell_type": "code",
   "execution_count": 19,
   "metadata": {},
   "outputs": [
    {
     "data": {
      "text/plain": [
       "1656"
      ]
     },
     "execution_count": 19,
     "metadata": {},
     "output_type": "execute_result"
    }
   ],
   "source": [
    "len(analysis_sections)"
   ]
  },
  {
   "cell_type": "code",
   "execution_count": 20,
   "metadata": {},
   "outputs": [
    {
     "name": "stderr",
     "output_type": "stream",
     "text": [
      "<ipython-input-20-52a7017f55d7>:2: SettingWithCopyWarning: \n",
      "A value is trying to be set on a copy of a slice from a DataFrame.\n",
      "Try using .loc[row_indexer,col_indexer] = value instead\n",
      "\n",
      "See the caveats in the documentation: https://pandas.pydata.org/pandas-docs/stable/user_guide/indexing.html#returning-a-view-versus-a-copy\n",
      "  citylab_data['Раздел'] = get_analysis_sections(citylab, 'НАИМЕНОВАНИЕ УСЛУГИ', 'КОД', is_all_section_general=False)\n"
     ]
    }
   ],
   "source": [
    "citylab_data = get_notnullable_rows_by_col(citylab, 'СРОК*')\n",
    "citylab_data['Раздел'] = get_analysis_sections(citylab, 'НАИМЕНОВАНИЕ УСЛУГИ', 'КОД', is_all_section_general=False)\n",
    "citylab_data.columns = ['code', 'name', 'research_type', 'blank_form', 'sampling_type', 'period', 'price', 'section']"
   ]
  },
  {
   "cell_type": "code",
   "execution_count": 21,
   "metadata": {},
   "outputs": [],
   "source": [
    "citylab_data.to_csv(\"csv/citylab.csv\", index=False)"
   ]
  },
  {
   "cell_type": "code",
   "execution_count": 22,
   "metadata": {},
   "outputs": [],
   "source": [
    "citylab_data.to_excel(\"citylab.xls\", index=False)"
   ]
  },
  {
   "cell_type": "code",
   "execution_count": 23,
   "metadata": {},
   "outputs": [
    {
     "name": "stdout",
     "output_type": "stream",
     "text": [
      "Всего анализов: 1656\n"
     ]
    }
   ],
   "source": [
    "print(\"Всего анализов:\", citylab_data.shape[0])"
   ]
  },
  {
   "cell_type": "markdown",
   "metadata": {},
   "source": [
    "# Хеликс"
   ]
  },
  {
   "cell_type": "code",
   "execution_count": 24,
   "metadata": {},
   "outputs": [],
   "source": [
    "helix = pd.read_excel(\"хеликс.xls\")"
   ]
  },
  {
   "cell_type": "code",
   "execution_count": 25,
   "metadata": {},
   "outputs": [
    {
     "data": {
      "text/html": [
       "<div>\n",
       "<style scoped>\n",
       "    .dataframe tbody tr th:only-of-type {\n",
       "        vertical-align: middle;\n",
       "    }\n",
       "\n",
       "    .dataframe tbody tr th {\n",
       "        vertical-align: top;\n",
       "    }\n",
       "\n",
       "    .dataframe thead th {\n",
       "        text-align: right;\n",
       "    }\n",
       "</style>\n",
       "<table border=\"1\" class=\"dataframe\">\n",
       "  <thead>\n",
       "    <tr style=\"text-align: right;\">\n",
       "      <th></th>\n",
       "      <th>Артикул</th>\n",
       "      <th>Наименование</th>\n",
       "      <th>Цена (руб.)</th>\n",
       "      <th>Срок выполнения</th>\n",
       "    </tr>\n",
       "  </thead>\n",
       "  <tbody>\n",
       "    <tr>\n",
       "      <th>0</th>\n",
       "      <td>02. Общеклинические исследования</td>\n",
       "      <td>NaN</td>\n",
       "      <td>NaN</td>\n",
       "      <td>NaN</td>\n",
       "    </tr>\n",
       "    <tr>\n",
       "      <th>1</th>\n",
       "      <td>02-001</td>\n",
       "      <td>Анализ кала на скрытую кровь</td>\n",
       "      <td>110</td>\n",
       "      <td>2</td>\n",
       "    </tr>\n",
       "    <tr>\n",
       "      <th>2</th>\n",
       "      <td>02-002</td>\n",
       "      <td>Анализ мочи по Нечипоренко</td>\n",
       "      <td>175</td>\n",
       "      <td>1</td>\n",
       "    </tr>\n",
       "    <tr>\n",
       "      <th>3</th>\n",
       "      <td>02-003</td>\n",
       "      <td>Микроскопическое исследование отделяемого моче...</td>\n",
       "      <td>130</td>\n",
       "      <td>До 15:00 следующего дня</td>\n",
       "    </tr>\n",
       "    <tr>\n",
       "      <th>4</th>\n",
       "      <td>02-004</td>\n",
       "      <td>Микроскопическое исследование секрета предстат...</td>\n",
       "      <td>180</td>\n",
       "      <td>До 15:00 следующего дня</td>\n",
       "    </tr>\n",
       "  </tbody>\n",
       "</table>\n",
       "</div>"
      ],
      "text/plain": [
       "                            Артикул  \\\n",
       "0  02. Общеклинические исследования   \n",
       "1                            02-001   \n",
       "2                            02-002   \n",
       "3                            02-003   \n",
       "4                            02-004   \n",
       "\n",
       "                                        Наименование Цена (руб.)  \\\n",
       "0                                                NaN         NaN   \n",
       "1                       Анализ кала на скрытую кровь         110   \n",
       "2                         Анализ мочи по Нечипоренко         175   \n",
       "3  Микроскопическое исследование отделяемого моче...         130   \n",
       "4  Микроскопическое исследование секрета предстат...         180   \n",
       "\n",
       "           Срок выполнения  \n",
       "0                      NaN  \n",
       "1                        2  \n",
       "2                        1  \n",
       "3  До 15:00 следующего дня  \n",
       "4  До 15:00 следующего дня  "
      ]
     },
     "execution_count": 25,
     "metadata": {},
     "output_type": "execute_result"
    }
   ],
   "source": [
    "helix.head()"
   ]
  },
  {
   "cell_type": "code",
   "execution_count": 26,
   "metadata": {},
   "outputs": [
    {
     "name": "stdout",
     "output_type": "stream",
     "text": [
      "<class 'pandas.core.frame.DataFrame'>\n",
      "RangeIndex: 1930 entries, 0 to 1929\n",
      "Data columns (total 4 columns):\n",
      " #   Column           Non-Null Count  Dtype \n",
      "---  ------           --------------  ----- \n",
      " 0   Артикул          1930 non-null   object\n",
      " 1   Наименование     1911 non-null   object\n",
      " 2   Цена (руб.)      1911 non-null   object\n",
      " 3   Срок выполнения  1911 non-null   object\n",
      "dtypes: object(4)\n",
      "memory usage: 60.4+ KB\n"
     ]
    }
   ],
   "source": [
    "helix.info()"
   ]
  },
  {
   "cell_type": "code",
   "execution_count": 32,
   "metadata": {},
   "outputs": [
    {
     "data": {
      "text/html": [
       "<div>\n",
       "<style scoped>\n",
       "    .dataframe tbody tr th:only-of-type {\n",
       "        vertical-align: middle;\n",
       "    }\n",
       "\n",
       "    .dataframe tbody tr th {\n",
       "        vertical-align: top;\n",
       "    }\n",
       "\n",
       "    .dataframe thead th {\n",
       "        text-align: right;\n",
       "    }\n",
       "</style>\n",
       "<table border=\"1\" class=\"dataframe\">\n",
       "  <thead>\n",
       "    <tr style=\"text-align: right;\">\n",
       "      <th></th>\n",
       "      <th>Артикул</th>\n",
       "      <th>Наименование</th>\n",
       "      <th>Цена (руб.)</th>\n",
       "      <th>Срок выполнения</th>\n",
       "    </tr>\n",
       "  </thead>\n",
       "  <tbody>\n",
       "    <tr>\n",
       "      <th>0</th>\n",
       "      <td>02. Общеклинические исследования</td>\n",
       "      <td>NaN</td>\n",
       "      <td>NaN</td>\n",
       "      <td>NaN</td>\n",
       "    </tr>\n",
       "    <tr>\n",
       "      <th>1</th>\n",
       "      <td>02-001</td>\n",
       "      <td>Анализ кала на скрытую кровь</td>\n",
       "      <td>110</td>\n",
       "      <td>2</td>\n",
       "    </tr>\n",
       "    <tr>\n",
       "      <th>2</th>\n",
       "      <td>02-002</td>\n",
       "      <td>Анализ мочи по Нечипоренко</td>\n",
       "      <td>175</td>\n",
       "      <td>1</td>\n",
       "    </tr>\n",
       "    <tr>\n",
       "      <th>3</th>\n",
       "      <td>02-003</td>\n",
       "      <td>Микроскопическое исследование отделяемого моче...</td>\n",
       "      <td>130</td>\n",
       "      <td>До 15:00 следующего дня</td>\n",
       "    </tr>\n",
       "    <tr>\n",
       "      <th>4</th>\n",
       "      <td>02-004</td>\n",
       "      <td>Микроскопическое исследование секрета предстат...</td>\n",
       "      <td>180</td>\n",
       "      <td>До 15:00 следующего дня</td>\n",
       "    </tr>\n",
       "  </tbody>\n",
       "</table>\n",
       "</div>"
      ],
      "text/plain": [
       "                            Артикул  \\\n",
       "0  02. Общеклинические исследования   \n",
       "1                            02-001   \n",
       "2                            02-002   \n",
       "3                            02-003   \n",
       "4                            02-004   \n",
       "\n",
       "                                        Наименование Цена (руб.)  \\\n",
       "0                                                NaN         NaN   \n",
       "1                       Анализ кала на скрытую кровь         110   \n",
       "2                         Анализ мочи по Нечипоренко         175   \n",
       "3  Микроскопическое исследование отделяемого моче...         130   \n",
       "4  Микроскопическое исследование секрета предстат...         180   \n",
       "\n",
       "           Срок выполнения  \n",
       "0                      NaN  \n",
       "1                        2  \n",
       "2                        1  \n",
       "3  До 15:00 следующего дня  \n",
       "4  До 15:00 следующего дня  "
      ]
     },
     "execution_count": 32,
     "metadata": {},
     "output_type": "execute_result"
    }
   ],
   "source": [
    "helix.head()"
   ]
  },
  {
   "cell_type": "code",
   "execution_count": 27,
   "metadata": {},
   "outputs": [],
   "source": [
    "helix_data = get_notnullable_rows_by_col(helix, 'Цена (руб.)')"
   ]
  },
  {
   "cell_type": "code",
   "execution_count": null,
   "metadata": {},
   "outputs": [],
   "source": []
  },
  {
   "cell_type": "code",
   "execution_count": 28,
   "metadata": {},
   "outputs": [
    {
     "name": "stderr",
     "output_type": "stream",
     "text": [
      "<ipython-input-28-14516fd62d49>:1: SettingWithCopyWarning: \n",
      "A value is trying to be set on a copy of a slice from a DataFrame.\n",
      "Try using .loc[row_indexer,col_indexer] = value instead\n",
      "\n",
      "See the caveats in the documentation: https://pandas.pydata.org/pandas-docs/stable/user_guide/indexing.html#returning-a-view-versus-a-copy\n",
      "  helix_data['section'] = [section[4:] for section in get_analysis_sections(helix, 'Наименование', 'Артикул', is_all_section_general=True)]\n"
     ]
    }
   ],
   "source": [
    "helix_data['section'] = [section[4:] for section in get_analysis_sections(helix, 'Наименование', 'Артикул', is_all_section_general=True)]\n",
    "helix_data.columns = ['code', 'name', 'price', 'period', 'section']"
   ]
  },
  {
   "cell_type": "code",
   "execution_count": 29,
   "metadata": {},
   "outputs": [
    {
     "name": "stdout",
     "output_type": "stream",
     "text": [
      "<class 'pandas.core.frame.DataFrame'>\n",
      "Int64Index: 1911 entries, 1 to 1929\n",
      "Data columns (total 5 columns):\n",
      " #   Column   Non-Null Count  Dtype \n",
      "---  ------   --------------  ----- \n",
      " 0   code     1911 non-null   object\n",
      " 1   name     1911 non-null   object\n",
      " 2   price    1911 non-null   object\n",
      " 3   period   1911 non-null   object\n",
      " 4   section  1911 non-null   object\n",
      "dtypes: object(5)\n",
      "memory usage: 89.6+ KB\n"
     ]
    }
   ],
   "source": [
    "helix_data.info()"
   ]
  },
  {
   "cell_type": "code",
   "execution_count": 30,
   "metadata": {},
   "outputs": [],
   "source": [
    "helix_sections = list(set([section[4:] for section in get_analysis_sections(helix, 'Наименование', 'Артикул', is_all_section_general=True)]))\n",
    "pd.Series(list(set(helix_sections))).to_frame().to_excel('helix_sections.xls', index=False)"
   ]
  },
  {
   "cell_type": "code",
   "execution_count": 31,
   "metadata": {},
   "outputs": [],
   "source": [
    "helix_data.to_csv('csv/helix.csv', index=False)"
   ]
  },
  {
   "cell_type": "code",
   "execution_count": 198,
   "metadata": {},
   "outputs": [
    {
     "name": "stdout",
     "output_type": "stream",
     "text": [
      "Всего анализов: 1911\n"
     ]
    }
   ],
   "source": [
    "print(\"Всего анализов:\", helix_data.shape[0])"
   ]
  },
  {
   "cell_type": "markdown",
   "metadata": {},
   "source": [
    "# Matched"
   ]
  },
  {
   "cell_type": "code",
   "execution_count": 15,
   "metadata": {},
   "outputs": [],
   "source": [
    "matched = pd.read_excel('Analysis_connection_2(1).xlsx')"
   ]
  },
  {
   "cell_type": "code",
   "execution_count": 16,
   "metadata": {},
   "outputs": [
    {
     "name": "stdout",
     "output_type": "stream",
     "text": [
      "<class 'pandas.core.frame.DataFrame'>\n",
      "RangeIndex: 903 entries, 0 to 902\n",
      "Data columns (total 18 columns):\n",
      " #   Column                   Non-Null Count  Dtype \n",
      "---  ------                   --------------  ----- \n",
      " 0   Раздел                   902 non-null    object\n",
      " 1   Название анализа         902 non-null    object\n",
      " 2   Код Инвитро              897 non-null    object\n",
      " 3   Цена Инвитро             897 non-null    object\n",
      " 4   Ссылка Инвитро           897 non-null    object\n",
      " 5   Код Хеликса              897 non-null    object\n",
      " 6   Цена Хеликса             896 non-null    object\n",
      " 7   Код Ситилаб              896 non-null    object\n",
      " 8   Цена Ситилаб             896 non-null    object\n",
      " 9   Ссылка Ситилаб           897 non-null    object\n",
      " 10  Код Гемотеста            624 non-null    object\n",
      " 11  Цена Гемотеста           624 non-null    object\n",
      " 12  Ссылка Гемотест          624 non-null    object\n",
      " 13  Код CMD                  624 non-null    object\n",
      " 14  Цена CMD                 624 non-null    object\n",
      " 15  Ссылка CMD               624 non-null    object\n",
      " 16  Подготовка к анализу     900 non-null    object\n",
      " 17  Тип взятия биоматериала  901 non-null    object\n",
      "dtypes: object(18)\n",
      "memory usage: 127.1+ KB\n"
     ]
    }
   ],
   "source": [
    "matched.info()"
   ]
  },
  {
   "cell_type": "code",
   "execution_count": 31,
   "metadata": {},
   "outputs": [],
   "source": [
    "matched.to_csv('csv/matcheds.csv')"
   ]
  },
  {
   "cell_type": "code",
   "execution_count": 17,
   "metadata": {},
   "outputs": [],
   "source": [
    "matched_dict = dict.fromkeys([\"codes\", \"prepare\", \"sampling\"])\n",
    "\n",
    "for k, _ in matched_dict.items():\n",
    "    matched_dict[k] = []"
   ]
  },
  {
   "cell_type": "code",
   "execution_count": 18,
   "metadata": {},
   "outputs": [],
   "source": [
    "for row in matched.iloc:\n",
    "    row = row.to_dict()\n",
    "    matched_dict[\"codes\"].append(\";\".join([str(row[name]) for name in ['Код Инвитро', 'Код Хеликса', 'Код Ситилаб',]]))\n",
    "    matched_dict[\"prepare\"].append(row['Подготовка к анализу'])\n",
    "    matched_dict[\"sampling\"].append(row['Тип взятия биоматериала'])"
   ]
  },
  {
   "cell_type": "code",
   "execution_count": 20,
   "metadata": {},
   "outputs": [],
   "source": [
    "matched_df = pd.DataFrame(matched_dict)"
   ]
  },
  {
   "cell_type": "code",
   "execution_count": 21,
   "metadata": {},
   "outputs": [],
   "source": [
    "matched_df.to_csv('csv/matched.csv', index=False)"
   ]
  },
  {
   "cell_type": "code",
   "execution_count": 22,
   "metadata": {},
   "outputs": [
    {
     "name": "stdout",
     "output_type": "stream",
     "text": [
      "Всего сравнений: 903\n"
     ]
    }
   ],
   "source": [
    "print(\"Всего сравнений:\", matched.shape[0])"
   ]
  },
  {
   "cell_type": "markdown",
   "metadata": {},
   "source": [
    "## Samplings"
   ]
  },
  {
   "cell_type": "code",
   "execution_count": 27,
   "metadata": {},
   "outputs": [],
   "source": [
    "samplings_df = pd.read_excel('Заборы.xlsx')"
   ]
  },
  {
   "cell_type": "code",
   "execution_count": 28,
   "metadata": {},
   "outputs": [
    {
     "data": {
      "text/html": [
       "<div>\n",
       "<style scoped>\n",
       "    .dataframe tbody tr th:only-of-type {\n",
       "        vertical-align: middle;\n",
       "    }\n",
       "\n",
       "    .dataframe tbody tr th {\n",
       "        vertical-align: top;\n",
       "    }\n",
       "\n",
       "    .dataframe thead th {\n",
       "        text-align: right;\n",
       "    }\n",
       "</style>\n",
       "<table border=\"1\" class=\"dataframe\">\n",
       "  <thead>\n",
       "    <tr style=\"text-align: right;\">\n",
       "      <th></th>\n",
       "      <th>Название на сайте</th>\n",
       "      <th>Название в БД</th>\n",
       "      <th>Стоимость</th>\n",
       "    </tr>\n",
       "  </thead>\n",
       "  <tbody>\n",
       "    <tr>\n",
       "      <th>0</th>\n",
       "      <td>Взятие крови из периферической вены</td>\n",
       "      <td>Венозная кровь</td>\n",
       "      <td>220.0</td>\n",
       "    </tr>\n",
       "    <tr>\n",
       "      <th>1</th>\n",
       "      <td>Взятие крови из периферической вены</td>\n",
       "      <td>Сыв-ка крови</td>\n",
       "      <td>220.0</td>\n",
       "    </tr>\n",
       "    <tr>\n",
       "      <th>2</th>\n",
       "      <td>Взятие крови из периферической вены</td>\n",
       "      <td>Плазма с фторидом натрия</td>\n",
       "      <td>220.0</td>\n",
       "    </tr>\n",
       "    <tr>\n",
       "      <th>3</th>\n",
       "      <td>Взятие крови из периферической вены</td>\n",
       "      <td>Сыв-ка крови, плазма с фторидом натрия</td>\n",
       "      <td>220.0</td>\n",
       "    </tr>\n",
       "    <tr>\n",
       "      <th>4</th>\n",
       "      <td>Взятие крови из периферической вены</td>\n",
       "      <td>ЭДТА</td>\n",
       "      <td>220.0</td>\n",
       "    </tr>\n",
       "  </tbody>\n",
       "</table>\n",
       "</div>"
      ],
      "text/plain": [
       "                     Название на сайте  \\\n",
       "0  Взятие крови из периферической вены   \n",
       "1  Взятие крови из периферической вены   \n",
       "2  Взятие крови из периферической вены   \n",
       "3  Взятие крови из периферической вены   \n",
       "4  Взятие крови из периферической вены   \n",
       "\n",
       "                            Название в БД  Стоимость  \n",
       "0                          Венозная кровь      220.0  \n",
       "1                            Сыв-ка крови      220.0  \n",
       "2                Плазма с фторидом натрия      220.0  \n",
       "3  Сыв-ка крови, плазма с фторидом натрия      220.0  \n",
       "4                                    ЭДТА      220.0  "
      ]
     },
     "execution_count": 28,
     "metadata": {},
     "output_type": "execute_result"
    }
   ],
   "source": [
    "samplings_df.head()"
   ]
  },
  {
   "cell_type": "code",
   "execution_count": 29,
   "metadata": {},
   "outputs": [],
   "source": [
    "samplings_df.columns = ['site_name', 'name', 'price']"
   ]
  },
  {
   "cell_type": "code",
   "execution_count": 30,
   "metadata": {},
   "outputs": [],
   "source": [
    "samplings_df.to_csv('csv/samplings.csv')"
   ]
  },
  {
   "cell_type": "markdown",
   "metadata": {},
   "source": [
    "### Sections"
   ]
  },
  {
   "cell_type": "code",
   "execution_count": 55,
   "metadata": {},
   "outputs": [],
   "source": [
    "df = pd.read_excel('sections_connection.xlsx')\n",
    "df.columns = ['invitro_section', 'helix_section', 'citylab_section']\n",
    "df.helix_section = [section[3:] if isinstance(section, str) else np.nan for section in df.helix_section ]\n",
    "df = df.fillna('ДРУГОЕ')"
   ]
  },
  {
   "cell_type": "code",
   "execution_count": 56,
   "metadata": {},
   "outputs": [],
   "source": [
    "df.to_csv('csv/sections_connections.csv', index=False)"
   ]
  },
  {
   "cell_type": "code",
   "execution_count": null,
   "metadata": {},
   "outputs": [],
   "source": [
    "pd.read_csv('')"
   ]
  },
  {
   "cell_type": "code",
   "execution_count": 57,
   "metadata": {},
   "outputs": [
    {
     "data": {
      "text/plain": [
       "True"
      ]
     },
     "execution_count": 57,
     "metadata": {},
     "output_type": "execute_result"
    }
   ],
   "source": [
    "'Общеклинические исследования' == 'Общеклинические исследования'"
   ]
  },
  {
   "cell_type": "code",
   "execution_count": 4,
   "metadata": {},
   "outputs": [],
   "source": [
    "import requests"
   ]
  },
  {
   "cell_type": "code",
   "execution_count": 2,
   "metadata": {},
   "outputs": [],
   "source": [
    "headers = {'Content-Type': 'application/json', 'charset': 'UTF-8', 'Content-Length': '268', 'Chunked': 'false'}\n",
    "\n",
    "data = {\"TerminalKey\":\"1599305767668\",\"OrderId\":\"87\",\"Success\":True,\"Status\":\"CONFIRMED\",\"PaymentId\":342918623,\"ErrorCode\":\"0\",\"Amount\":500,\"CardId\":49952352,\"Pan\":\"427676******4888\",\"ExpDate\":\"0822\",\"Token\":\"599965d44e33329eb1c227c4427b2642071a867d02d64010c50c7611a258d7b4\"}"
   ]
  },
  {
   "cell_type": "code",
   "execution_count": 5,
   "metadata": {},
   "outputs": [],
   "source": [
    "r = requests.post('http://lotoslab.ru/payment/', \n",
    "    headers=headers,\n",
    "    data=data)"
   ]
  },
  {
   "cell_type": "code",
   "execution_count": 6,
   "metadata": {},
   "outputs": [
    {
     "data": {
      "text/plain": [
       "b'OK'"
      ]
     },
     "execution_count": 6,
     "metadata": {},
     "output_type": "execute_result"
    }
   ],
   "source": [
    "r.content"
   ]
  },
  {
   "cell_type": "code",
   "execution_count": 29,
   "metadata": {},
   "outputs": [],
   "source": [
    "df = pd.read_excel('Helix_adress_msk.xlsx')"
   ]
  },
  {
   "cell_type": "code",
   "execution_count": 33,
   "metadata": {},
   "outputs": [],
   "source": [
    "df.columns = ['address', 'coord']"
   ]
  },
  {
   "cell_type": "code",
   "execution_count": 34,
   "metadata": {},
   "outputs": [],
   "source": [
    "df.address = [n.replace('\\n', ' ') for n in df.address]"
   ]
  },
  {
   "cell_type": "code",
   "execution_count": 35,
   "metadata": {},
   "outputs": [],
   "source": [
    "df['latitude'] = [x.split(',')[0] for x in df.coord]\n",
    "df['longitude'] = [x.split(',')[1] for x in df.coord]"
   ]
  },
  {
   "cell_type": "code",
   "execution_count": 36,
   "metadata": {},
   "outputs": [],
   "source": [
    "df['color'] = ['red' for i in range(df.shape[0])]"
   ]
  },
  {
   "cell_type": "code",
   "execution_count": 41,
   "metadata": {},
   "outputs": [],
   "source": [
    "df['lab_name'] = ['Лаборатория-партнёр' for i in range(df.shape[0])]\n",
    "del df['coord']"
   ]
  },
  {
   "cell_type": "code",
   "execution_count": 42,
   "metadata": {},
   "outputs": [],
   "source": [
    "df.to_csv('Locations/moskva/helix.csv', sep='\\t', index=False)"
   ]
  },
  {
   "cell_type": "code",
   "execution_count": 23,
   "metadata": {},
   "outputs": [],
   "source": [
    "df = pd.read_csv('analysis.csv')\n",
    "df = df[:3]\n",
    "df['price'][0] = 123\n",
    "df['description'][0] = 'УЗДАЛЬ'\n",
    "df.to_csv('csv/analysis.csv', index=False)"
   ]
  },
  {
   "cell_type": "code",
   "execution_count": 7,
   "metadata": {},
   "outputs": [],
   "source": [
    "a = b'{\"TerminalKey\":\"1599305767668\",\"OrderId\":\"87\",\"Success\":true,\"Status\":\"CONFIRMED\",\"PaymentId\":342918623,\"ErrorCode\":\"0\",\"Amount\":500,\"CardId\":49952352,\"Pan\":\"427676******4888\",\"ExpDate\":\"0822\",\"Token\":\"599965d44e33329eb1c227c4427b2642071a867d02d64010c50c7611a258d7b4\"}'"
   ]
  },
  {
   "cell_type": "code",
   "execution_count": 10,
   "metadata": {},
   "outputs": [
    {
     "data": {
      "text/plain": [
       "{'TerminalKey': '1599305767668',\n",
       " 'OrderId': '87',\n",
       " 'Success': True,\n",
       " 'Status': 'CONFIRMED',\n",
       " 'PaymentId': 342918623,\n",
       " 'ErrorCode': '0',\n",
       " 'Amount': 500,\n",
       " 'CardId': 49952352,\n",
       " 'Pan': '427676******4888',\n",
       " 'ExpDate': '0822',\n",
       " 'Token': '599965d44e33329eb1c227c4427b2642071a867d02d64010c50c7611a258d7b4'}"
      ]
     },
     "execution_count": 10,
     "metadata": {},
     "output_type": "execute_result"
    }
   ],
   "source": [
    "eval(a.decode('utf-8').replace('true', 'True'))"
   ]
  },
  {
   "cell_type": "code",
   "execution_count": 17,
   "metadata": {},
   "outputs": [],
   "source": [
    "def body_to_dict(a):\n",
    "        body = a.decode('utf-8')\n",
    "        replaces = {\"true\": \"True\", 'false': \"False\", 'none': \"None\"}\n",
    "        for x in replaces:\n",
    "            body = body.replace(x, replaces[x])\n",
    "\n",
    "        return eval(body)"
   ]
  },
  {
   "cell_type": "code",
   "execution_count": 18,
   "metadata": {},
   "outputs": [
    {
     "data": {
      "text/plain": [
       "{'TerminalKey': '1599305767668',\n",
       " 'OrderId': '87',\n",
       " 'Success': True,\n",
       " 'Status': 'CONFIRMED',\n",
       " 'PaymentId': 342918623,\n",
       " 'ErrorCode': '0',\n",
       " 'Amount': 500,\n",
       " 'CardId': 49952352,\n",
       " 'Pan': '427676******4888',\n",
       " 'ExpDate': '0822',\n",
       " 'Token': '599965d44e33329eb1c227c4427b2642071a867d02d64010c50c7611a258d7b4'}"
      ]
     },
     "execution_count": 18,
     "metadata": {},
     "output_type": "execute_result"
    }
   ],
   "source": [
    "body_to_dict(a)"
   ]
  },
  {
   "cell_type": "code",
   "execution_count": 2,
   "metadata": {},
   "outputs": [],
   "source": [
    "pd.read_csv('Locations/moskva/invitro.csv').to_csv('Locations/moskva/invitro.csv', sep='\\t')"
   ]
  },
  {
   "cell_type": "code",
   "execution_count": null,
   "metadata": {},
   "outputs": [],
   "source": []
  }
 ],
 "metadata": {
  "kernelspec": {
   "display_name": "cs102",
   "language": "python",
   "name": "cs102"
  },
  "language_info": {
   "codemirror_mode": {
    "name": "ipython",
    "version": 3
   },
   "file_extension": ".py",
   "mimetype": "text/x-python",
   "name": "python",
   "nbconvert_exporter": "python",
   "pygments_lexer": "ipython3",
   "version": "3.8.3"
  }
 },
 "nbformat": 4,
 "nbformat_minor": 4
}
