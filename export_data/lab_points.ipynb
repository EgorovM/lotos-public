{
 "cells": [
  {
   "cell_type": "code",
   "execution_count": 16,
   "metadata": {},
   "outputs": [],
   "source": [
    "import pandas as pd"
   ]
  },
  {
   "cell_type": "code",
   "execution_count": 17,
   "metadata": {},
   "outputs": [],
   "source": [
    "data = pd.read_excel('Список_МО_лаборатории_ИНВИТРО_по_России.xlsx', sheet_name='Россия')"
   ]
  },
  {
   "cell_type": "code",
   "execution_count": 28,
   "metadata": {},
   "outputs": [
    {
     "data": {
      "text/html": [
       "<div>\n",
       "<style scoped>\n",
       "    .dataframe tbody tr th:only-of-type {\n",
       "        vertical-align: middle;\n",
       "    }\n",
       "\n",
       "    .dataframe tbody tr th {\n",
       "        vertical-align: top;\n",
       "    }\n",
       "\n",
       "    .dataframe thead th {\n",
       "        text-align: right;\n",
       "    }\n",
       "</style>\n",
       "<table border=\"1\" class=\"dataframe\">\n",
       "  <thead>\n",
       "    <tr style=\"text-align: right;\">\n",
       "      <th></th>\n",
       "      <th>№ п/п</th>\n",
       "      <th>Населенный пункт</th>\n",
       "      <th>Название МО</th>\n",
       "      <th>Адрес</th>\n",
       "      <th>Телефон</th>\n",
       "      <th>Представители агломераций</th>\n",
       "      <th>Координаты</th>\n",
       "    </tr>\n",
       "  </thead>\n",
       "  <tbody>\n",
       "    <tr>\n",
       "      <th>0</th>\n",
       "      <td>1</td>\n",
       "      <td>г. Москва</td>\n",
       "      <td>Авиамоторная</td>\n",
       "      <td>город Москва, Шоссе Энтузиастов, дом 22/18</td>\n",
       "      <td>8-495-361-49-37\\n8-964-559-97-71</td>\n",
       "      <td>NaN</td>\n",
       "      <td>55.750986, 37.717133</td>\n",
       "    </tr>\n",
       "    <tr>\n",
       "      <th>1</th>\n",
       "      <td>2</td>\n",
       "      <td>г. Москва</td>\n",
       "      <td>Автозаводская</td>\n",
       "      <td>город Москва, 1-ый Кожуховский проезд, д. 9</td>\n",
       "      <td>8-903-195-84-43\\n8-495-258-07-88 доб. 1742</td>\n",
       "      <td>NaN</td>\n",
       "      <td>55.706274, 37.660763</td>\n",
       "    </tr>\n",
       "    <tr>\n",
       "      <th>2</th>\n",
       "      <td>3</td>\n",
       "      <td>г. Азов</td>\n",
       "      <td>Азов</td>\n",
       "      <td>Ростовская область, город Азов, улица Ленина, ...</td>\n",
       "      <td>8-86342-4-62-77</td>\n",
       "      <td>NaN</td>\n",
       "      <td>47.105082, 39.427561</td>\n",
       "    </tr>\n",
       "    <tr>\n",
       "      <th>3</th>\n",
       "      <td>4</td>\n",
       "      <td>г. Азов</td>\n",
       "      <td>Азов-2</td>\n",
       "      <td>Ростовская область, город Азов, улица Московск...</td>\n",
       "      <td>8(863)426-35-82</td>\n",
       "      <td>NaN</td>\n",
       "      <td>47.092059, 39.450863</td>\n",
       "    </tr>\n",
       "    <tr>\n",
       "      <th>4</th>\n",
       "      <td>5</td>\n",
       "      <td>г. Москва</td>\n",
       "      <td>Академическая</td>\n",
       "      <td>город Москва, улица Профсоюзная, дом 5/9</td>\n",
       "      <td>8-966-035-97-71 8-495-258-07-88 доб. 1737</td>\n",
       "      <td>NaN</td>\n",
       "      <td>55.684838, 37.571129</td>\n",
       "    </tr>\n",
       "  </tbody>\n",
       "</table>\n",
       "</div>"
      ],
      "text/plain": [
       "   № п/п Населенный пункт    Название МО  \\\n",
       "0      1        г. Москва   Авиамоторная   \n",
       "1      2        г. Москва  Автозаводская   \n",
       "2      3          г. Азов           Азов   \n",
       "3      4          г. Азов         Азов-2   \n",
       "4      5        г. Москва  Академическая   \n",
       "\n",
       "                                               Адрес  \\\n",
       "0         город Москва, Шоссе Энтузиастов, дом 22/18   \n",
       "1       город Москва, 1-ый Кожуховский проезд, д. 9    \n",
       "2  Ростовская область, город Азов, улица Ленина, ...   \n",
       "3  Ростовская область, город Азов, улица Московск...   \n",
       "4           город Москва, улица Профсоюзная, дом 5/9   \n",
       "\n",
       "                                      Телефон Представители агломераций  \\\n",
       "0            8-495-361-49-37\\n8-964-559-97-71                       NaN   \n",
       "1  8-903-195-84-43\\n8-495-258-07-88 доб. 1742                       NaN   \n",
       "2                             8-86342-4-62-77                       NaN   \n",
       "3                             8(863)426-35-82                       NaN   \n",
       "4   8-966-035-97-71 8-495-258-07-88 доб. 1737                       NaN   \n",
       "\n",
       "             Координаты  \n",
       "0  55.750986, 37.717133  \n",
       "1  55.706274, 37.660763  \n",
       "2  47.105082, 39.427561  \n",
       "3  47.092059, 39.450863  \n",
       "4  55.684838, 37.571129  "
      ]
     },
     "execution_count": 28,
     "metadata": {},
     "output_type": "execute_result"
    }
   ],
   "source": [
    "data.head()"
   ]
  },
  {
   "cell_type": "code",
   "execution_count": 27,
   "metadata": {},
   "outputs": [],
   "source": [
    "data[data['Населенный пункт'] == 'г. Санкт-Петербург'].to_csv('invitro_saint_petersburg.csv')"
   ]
  },
  {
   "cell_type": "code",
   "execution_count": null,
   "metadata": {},
   "outputs": [],
   "source": []
  }
 ],
 "metadata": {
  "kernelspec": {
   "display_name": "cs102",
   "language": "python",
   "name": "cs102"
  },
  "language_info": {
   "codemirror_mode": {
    "name": "ipython",
    "version": 3
   },
   "file_extension": ".py",
   "mimetype": "text/x-python",
   "name": "python",
   "nbconvert_exporter": "python",
   "pygments_lexer": "ipython3",
   "version": "3.8.3"
  }
 },
 "nbformat": 4,
 "nbformat_minor": 4
}
